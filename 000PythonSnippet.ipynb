{
 "cells": [
  {
   "cell_type": "markdown",
   "metadata": {},
   "source": [
    "## Useful Note/Tricks For Coding\n",
    "\n",
    "    Python assignment is by reference.\n",
    "        l1 = [1,2,3], l2 = l1. l1 and l2 point to the same memory.\n",
    "        l1 = [1,2,3], l2=[i for i in l1]. l1 and l2 point to different memories."
   ]
  },
  {
   "cell_type": "code",
   "execution_count": 1,
   "metadata": {},
   "outputs": [
    {
     "name": "stdout",
     "output_type": "stream",
     "text": [
      "Sum is: 3.\n"
     ]
    }
   ],
   "source": [
    "# A single running program.\n",
    "def Add(a,b):\n",
    "    s = a + b\n",
    "    return s\n",
    "\n",
    "if __name__ == '__main__':\n",
    "    s = Add(1,2)\n",
    "    print ('Sum is: %d.'%s)"
   ]
  },
  {
   "cell_type": "code",
   "execution_count": 1,
   "metadata": {},
   "outputs": [
    {
     "name": "stdout",
     "output_type": "stream",
     "text": [
      "This is formatted print for digit and float:    5,     1.23.\n"
     ]
    }
   ],
   "source": [
    "# Formatted print/output\n",
    "print ('This is formatted print for digit and float: %4d, %8.2f.'%(5, 1.23456))"
   ]
  },
  {
   "cell_type": "code",
   "execution_count": 1,
   "metadata": {},
   "outputs": [
    {
     "name": "stdout",
     "output_type": "stream",
     "text": [
      "myVar is not available.\n"
     ]
    }
   ],
   "source": [
    "# Check a variable exist.\n",
    "\n",
    "if 'myVar' in locals():\n",
    "    print ('myVar is available.')\n",
    "else:\n",
    "    print ('myVar is not available.')\n",
    "# Note: Pay attention to the quote."
   ]
  },
  {
   "cell_type": "code",
   "execution_count": 1,
   "metadata": {},
   "outputs": [
    {
     "name": "stdout",
     "output_type": "stream",
     "text": [
      "lower\n"
     ]
    }
   ],
   "source": [
    "# concise if else\n",
    "\n",
    "import numpy as np\n",
    "a = np.random.random()\n",
    "b = 'upper' if a > 0.5 else 'lower'\n",
    "print (b)"
   ]
  },
  {
   "cell_type": "code",
   "execution_count": 1,
   "metadata": {},
   "outputs": [
    {
     "name": "stdout",
     "output_type": "stream",
     "text": [
      "1 1\n",
      "2 1\n"
     ]
    }
   ],
   "source": [
    "# Pay attention to assign: same memory location or new memory allocation.\n",
    "\n",
    "x = 1\n",
    "a = x\n",
    "print (x, a)\n",
    "if 6>5:\n",
    "    x = 2\n",
    "print (x, a)"
   ]
  },
  {
   "cell_type": "code",
   "execution_count": 2,
   "metadata": {},
   "outputs": [
    {
     "name": "stdout",
     "output_type": "stream",
     "text": [
      "[1, 2] [1, 2]\n",
      "[2, 3] [1, 2]\n"
     ]
    }
   ],
   "source": [
    "# assign will allocate new memory.\n",
    "\n",
    "x = [1,2]\n",
    "a = x\n",
    "print (x, a)\n",
    "if 6>5:\n",
    "    x=[2,3]  \n",
    "print (x, a)"
   ]
  },
  {
   "cell_type": "code",
   "execution_count": 3,
   "metadata": {},
   "outputs": [
    {
     "name": "stdout",
     "output_type": "stream",
     "text": [
      "[1, 2] [1, 2]\n",
      "[1, 2, 3] [1, 2, 3]\n"
     ]
    }
   ],
   "source": [
    "# Append use the same memory.\n",
    "\n",
    "x = [1,2]\n",
    "a = x\n",
    "print (x, a)\n",
    "if 6>5:\n",
    "    x.append(3)\n",
    "print (x, a)"
   ]
  },
  {
   "cell_type": "code",
   "execution_count": 1,
   "metadata": {},
   "outputs": [
    {
     "name": "stdout",
     "output_type": "stream",
     "text": [
      "Sort by sorted(): [1, 2, 3, 4, 5, 6]\n",
      "[6, 5, 4, 3, 2, 1]\n",
      "Sort by np.sort(): [1 2 3 4 5 6]\n",
      "[(5, 1), (3, 2), (1, 3)]\n",
      "[('a', 1), ('c', 2), ('b', 3)]\n"
     ]
    }
   ],
   "source": [
    "# Sort\n",
    "# sorted() vs np.sort() vs list.sort()\n",
    "\n",
    "a = [1,3,2,5,4,6]\n",
    "print ('Sort by sorted():', sorted(a))\n",
    "a.sort(reverse=True)\n",
    "print (a)\n",
    "import numpy as np\n",
    "print ('Sort by np.sort():', np.sort(a))\n",
    "\n",
    "b =[(1,3),(5,1),(3,2)]\n",
    "b.sort(key=lambda x: x[0],reverse=True)\n",
    "print (b)\n",
    "\n",
    "c = {'a': 1, 'b': 3, 'c': 2}\n",
    "print(sorted(c.items(), key=lambda x: x[1], reverse=False))"
   ]
  },
  {
   "cell_type": "code",
   "execution_count": 1,
   "metadata": {},
   "outputs": [
    {
     "name": "stdout",
     "output_type": "stream",
     "text": [
      "[18, 9, 24, 12, 27]\n"
     ]
    }
   ],
   "source": [
    "# Lambda function\n",
    "# Lambda function is a way of creating anonymous functions at runtime.\n",
    "\n",
    "foo = [2, 18, 9, 22, 17, 24, 8, 12, 27]\n",
    "#The filter() function in Python takes in a function and a list as arguments.\n",
    "bar = list(filter(lambda x: x % 3 == 0, foo))\n",
    "print (bar)\n",
    "#print map(lambda x: x * 2 + 10, foo)\n",
    "#print reduce(lambda x, y: x + y, foo)"
   ]
  },
  {
   "cell_type": "code",
   "execution_count": 1,
   "metadata": {},
   "outputs": [
    {
     "name": "stdout",
     "output_type": "stream",
     "text": [
      "I am good.\n",
      "0.0003862120001940639\n",
      "\n",
      " [[ 1.31839544  0.11187854  1.08183228]\n",
      " [-0.50713724  0.1865763   1.42603053]\n",
      " [ 0.90164909 -0.43398461  1.40076067]]\n",
      "0.004178047180175781\n"
     ]
    }
   ],
   "source": [
    "# Calculate running time.\n",
    "# Using timeit.\n",
    "# timeit.default_timer() choose time.time() or time.clock() depending on operation systems.\n",
    "\n",
    "import timeit\n",
    "\n",
    "start = timeit.default_timer()\n",
    "print ('I am good.')\n",
    "stop = timeit.default_timer()\n",
    "print (stop - start) \n",
    "\n",
    "# Using time\n",
    "import time\n",
    "import numpy as np\n",
    "\n",
    "start2 = time.time()\n",
    "a = np.random.randn(3,3)\n",
    "print ('\\n', a)\n",
    "stop2 = time.time()\n",
    "print (stop2 - start2)"
   ]
  },
  {
   "cell_type": "code",
   "execution_count": null,
   "metadata": {
    "collapsed": true
   },
   "outputs": [],
   "source": [
    "# Open a file for read.\n",
    "\n",
    "file = open('test.txt', 'r')\n",
    "for i in file:\n",
    "    print (i)"
   ]
  },
  {
   "cell_type": "code",
   "execution_count": 1,
   "metadata": {},
   "outputs": [
    {
     "name": "stdout",
     "output_type": "stream",
     "text": [
      "Init Hi.\n",
      "Init Hello.\n",
      "\n",
      "Call object as a parameter 1\n",
      "Hi from Hi.greet.\n",
      "Hello from Hello.greet\n",
      "How are you doing?\n",
      "\n",
      "Call object as a parameter 2\n",
      "Hello from Hello.greet\n",
      "How are you doing?\n"
     ]
    }
   ],
   "source": [
    "# Passing an object/class as a parameter\n",
    "\n",
    "class Hi(object):\n",
    "    def __init__(self):\n",
    "        print (\"Init Hi.\")\n",
    "        \n",
    "    def greet(self, an_object):\n",
    "        print ('Hi from Hi.greet.')\n",
    "        an_object.greet()\n",
    "        \n",
    "class Hello(object):\n",
    "    def __init__(self):\n",
    "        print ('Init Hello.')\n",
    "        \n",
    "    def greet(self):\n",
    "        print ('Hello from Hello.greet')\n",
    "        print ('How are you doing?')\n",
    "    \n",
    "A = Hi()\n",
    "B = Hello()\n",
    "print ('\\nCall object as a parameter 1')\n",
    "A.greet(B)\n",
    "print ('\\nCall object as a parameter 2')\n",
    "B.greet()"
   ]
  },
  {
   "cell_type": "code",
   "execution_count": 1,
   "metadata": {},
   "outputs": [
    {
     "name": "stdout",
     "output_type": "stream",
     "text": [
      "Float after divide result of 5/3 is 1.666667.\n",
      "Float before divide result of 5/3 is 1.666667.\n"
     ]
    }
   ],
   "source": [
    "# integer divide\n",
    "\n",
    "print ('Float after divide result of 5/3 is %f.'%float(5/3))\n",
    "print ('Float before divide result of 5/3 is %f.'%(5/float(3)))"
   ]
  },
  {
   "cell_type": "code",
   "execution_count": 1,
   "metadata": {},
   "outputs": [
    {
     "name": "stdout",
     "output_type": "stream",
     "text": [
      "a1 is 2, a2 is 3.\n",
      "a1 is 3, a2 is 2.\n"
     ]
    }
   ],
   "source": [
    "# Swap, change\n",
    "\n",
    "a1 = 2\n",
    "a2 = 3\n",
    "print ('a1 is %d, a2 is %d.'%(a1,a2))\n",
    "a1, a2 = a2, a1\n",
    "print ('a1 is %d, a2 is %d.'%(a1,a2))"
   ]
  },
  {
   "cell_type": "markdown",
   "metadata": {},
   "source": [
    "# Math\n",
    "\n",
    "    math.pow(x, n)\n",
    "    math.sqrt(x)"
   ]
  },
  {
   "cell_type": "code",
   "execution_count": 1,
   "metadata": {},
   "outputs": [
    {
     "name": "stdout",
     "output_type": "stream",
     "text": [
      "0.2689414213699951\n",
      "Factorial 6 is 720.\n"
     ]
    }
   ],
   "source": [
    "# Math functions\n",
    "# Factorial, sigmoid\n",
    "import math\n",
    "\n",
    "def sigmoid(x):\n",
    "    return 1 / (1 + math.exp(-x))\n",
    "\n",
    "print (sigmoid(-1))\n",
    "print ('Factorial %d is %d.'%(6, math.factorial(6)))"
   ]
  },
  {
   "cell_type": "code",
   "execution_count": 1,
   "metadata": {},
   "outputs": [
    {
     "name": "stdout",
     "output_type": "stream",
     "text": [
      "Python 3 Max integer is  9223372036854775807\n",
      "True\n"
     ]
    }
   ],
   "source": [
    "# Max int\n",
    "import sys\n",
    "print ('Python 3 Max integer is ',sys.maxsize)\n",
    "\n",
    "# Python NAN\n",
    "# Note: can not use \"==\" for two NAN\n",
    "import math\n",
    "x=float('nan')\n",
    "print (math.isnan(x))"
   ]
  },
  {
   "cell_type": "markdown",
   "metadata": {},
   "source": [
    "# JSON"
   ]
  },
  {
   "cell_type": "code",
   "execution_count": 1,
   "metadata": {},
   "outputs": [
    {
     "name": "stdout",
     "output_type": "stream",
     "text": [
      "{'time_series': {'numberArray1': [1.0, 2.0, 3.0, 4.0, 5.0, 6.0, 7.0, 8.0, 9.0, 10.0], 'numberArray2': [100.0, 200.0, 300.0, 400.0, 500.0, 600.0, 700.0, 800.0, 900.0, 1000.0], 'time_stamp': ['1455733669601', '1455733669602', '1455733669603', '1455733669604', '1455733669605', '1455733669606', '1455733669607', '1455733669608', '1455733669609', '1455733669610']}}\n",
      "[1.0, 2.0, 3.0, 4.0, 5.0, 6.0, 7.0, 8.0, 9.0, 10.0]\n"
     ]
    }
   ],
   "source": [
    "# read json file json.loads().\n",
    "# a string which is in json format.\n",
    "import json\n",
    "data = '{\"data\":{\"time_series\":{\"numberArray1\":[1.0,2.0,3.0,4.0,5.0,6.0,7.0,8.0,9.0,10.0],\"numberArray2\":[100.0,200.0,300.0,400.0,500.0,600.0,700.0,800.0,900.0,1000.0],\"time_stamp\":[\"1455733669601\",\"1455733669602\",\"1455733669603\",\"1455733669604\",\"1455733669605\",\"1455733669606\",\"1455733669607\",\"1455733669608\",\"1455733669609\",\"1455733669610\"]}}}'\n",
    "new = json.loads(data)\n",
    "print (new.get('data'))\n",
    "print (new['data']['time_series']['numberArray1'])"
   ]
  },
  {
   "cell_type": "code",
   "execution_count": 1,
   "metadata": {
    "collapsed": true
   },
   "outputs": [],
   "source": [
    "# Dictionary to JSON file\n",
    "import json\n",
    "d={'foo':1, 'bar':2}\n",
    "with open('temp.json','w') as fp:\n",
    "    json.dump(d, fp)"
   ]
  },
  {
   "cell_type": "markdown",
   "metadata": {},
   "source": [
    "# Dictionary"
   ]
  },
  {
   "cell_type": "code",
   "execution_count": 1,
   "metadata": {},
   "outputs": [
    {
     "name": "stdout",
     "output_type": "stream",
     "text": [
      "Befor pop, d is: {'a': 1, 'b': 2, 'c': 3}\n",
      "After pop, d is: {'b': 2, 'c': 3}\n"
     ]
    }
   ],
   "source": [
    "# Pop in Dictionary\n",
    "\n",
    "d = {'a':1, 'b':2, 'c':3}\n",
    "print ('Befor pop, d is:', d)\n",
    "d.pop('a')\n",
    "print ('After pop, d is:', d)"
   ]
  },
  {
   "cell_type": "code",
   "execution_count": 1,
   "metadata": {},
   "outputs": [
    {
     "name": "stdout",
     "output_type": "stream",
     "text": [
      "{'a': 1, 'b': 2, 'c': 3}\n",
      "{1: 'a', 2: 'b', 3: 'c'}\n"
     ]
    }
   ],
   "source": [
    "# Reverse a dictionary key values\n",
    "\n",
    "my_map = {'a':1, 'b':2, 'c':3}\n",
    "print (my_map)\n",
    "inv_map = {v: k for k, v in my_map.items()}\n",
    "print (inv_map)\n",
    "# Note: dict.keys(), dict.values(), dict.items()"
   ]
  },
  {
   "cell_type": "code",
   "execution_count": 1,
   "metadata": {
    "collapsed": true
   },
   "outputs": [],
   "source": [
    "# Dictionary of Dictionary.\n",
    "# d = {}\n",
    "# d['onemore'] = {}\n",
    "\n",
    "d={}\n",
    "d['dict1']={'foo':1, 'bar':2}\n",
    "d['dict2']={'baz':3, 'quux':4}\n",
    "# d = {'dict1': {'foo': 1, 'bar': 2}, 'dict2': {'baz': 3, 'quux': 4}}\n",
    "\n",
    "d['dict1']['foo']=6\n",
    "# {'dict1': {'foo': 6, 'bar': 2}, 'dict2': {'quux': 4, 'baz': 3}}"
   ]
  },
  {
   "cell_type": "code",
   "execution_count": 1,
   "metadata": {},
   "outputs": [
    {
     "name": "stdout",
     "output_type": "stream",
     "text": [
      "Counter a is: Counter({'l': 3, 'o': 2, 'H': 1, 'e': 1, ' ': 1, 'W': 1, 'r': 1, 'd': 1, '!': 1}).\n",
      "Counter a equals Counter b.\n"
     ]
    }
   ],
   "source": [
    "# Counter can be compared.\n",
    "\n",
    "from collections import Counter\n",
    "a = Counter('Hello World!')\n",
    "b = Counter('Hello World!')\n",
    "print ('Counter a is: %s.'%a)\n",
    "\n",
    "if a == b:\n",
    "    print ('Counter a equals Counter b.')"
   ]
  },
  {
   "cell_type": "code",
   "execution_count": 1,
   "metadata": {},
   "outputs": [
    {
     "name": "stdout",
     "output_type": "stream",
     "text": [
      "Set a is: {'e', 'o', 'd', 'l', 'W', '!', 'H', ' ', 'r'}.\n",
      "Set a equals Set b.\n"
     ]
    }
   ],
   "source": [
    "# Set can be compared.\n",
    "\n",
    "a = set('Hello World!')\n",
    "b = set('Hello World!')\n",
    "print ('Set a is: %s.'%a)\n",
    "\n",
    "if a == b:\n",
    "    print ('Set a equals Set b.')"
   ]
  },
  {
   "cell_type": "code",
   "execution_count": 1,
   "metadata": {},
   "outputs": [
    {
     "name": "stdout",
     "output_type": "stream",
     "text": [
      "List a is: [1, 2, 3, 4].\n",
      "List a equals List b.\n"
     ]
    }
   ],
   "source": [
    "# List can be compared.\n",
    "\n",
    "a = [1,2,3,4]\n",
    "b = [1,2,3,4]\n",
    "print ('List a is: %s.'%a)\n",
    "\n",
    "if a == b:\n",
    "    print ('List a equals List b.')"
   ]
  },
  {
   "cell_type": "markdown",
   "metadata": {},
   "source": [
    "# List List Operations"
   ]
  },
  {
   "cell_type": "code",
   "execution_count": 1,
   "metadata": {},
   "outputs": [
    {
     "name": "stdout",
     "output_type": "stream",
     "text": [
      "Before Shuttle: [0, 1, 2, 3, 4, 5, 6, 7, 8, 9]\n",
      "After Shuttle: [8, 7, 0, 4, 3, 5, 6, 1, 2, 9]\n"
     ]
    }
   ],
   "source": [
    "# Shuffle a list\n",
    "\n",
    "from random import shuffle\n",
    "\n",
    "a1=list(range(0,10))\n",
    "print ('Before Shuttle:', a1)\n",
    "shuffle(a1)  # No assignment again.\n",
    "print ('After Shuttle:', a1)"
   ]
  },
  {
   "cell_type": "code",
   "execution_count": 1,
   "metadata": {},
   "outputs": [
    {
     "name": "stdout",
     "output_type": "stream",
     "text": [
      "[1, 2, 3]\n",
      "[4, 5]\n"
     ]
    }
   ],
   "source": [
    "# Call list elements with range.\n",
    "\n",
    "a = [1,2,3,4,5]\n",
    "print (a[:3])\n",
    "print (a[3:])\n",
    "# Note: a[:i] only print 0,...,i-1 elements\n",
    "#       a[i:] print i,..., to end elements"
   ]
  },
  {
   "cell_type": "code",
   "execution_count": 1,
   "metadata": {},
   "outputs": [
    {
     "name": "stdout",
     "output_type": "stream",
     "text": [
      "a3:  [1, 2, 3, 4, 5, 6]\n",
      "a4:  [1 2 3 4 5 6 7 8 9]\n"
     ]
    }
   ],
   "source": [
    "# List Add, List Append, Join two lists together.\n",
    "\n",
    "import numpy as np\n",
    "\n",
    "a1 = [1,2,3]\n",
    "a2 = [4,5,6]\n",
    "a3 =  a1 + a2\n",
    "print ('a3: ', a3)\n",
    "\n",
    "a4 = np.append([[1,2,3],[4,5,6]],[7,8,9])\n",
    "print ('a4: ', a4)"
   ]
  },
  {
   "cell_type": "code",
   "execution_count": 1,
   "metadata": {},
   "outputs": [
    {
     "name": "stdout",
     "output_type": "stream",
     "text": [
      "[1, 3, 6]\n"
     ]
    }
   ],
   "source": [
    "# List Sub\n",
    "\n",
    "a = [1,2,3,4,5,6]\n",
    "b = [2,4,5]\n",
    "c = [i for i in a if i not in b]\n",
    "print (c)"
   ]
  },
  {
   "cell_type": "code",
   "execution_count": 1,
   "metadata": {},
   "outputs": [
    {
     "name": "stdout",
     "output_type": "stream",
     "text": [
      "5\n"
     ]
    }
   ],
   "source": [
    "# Count number of items in List\n",
    "\n",
    "a1 = [1,2,3,4,5]\n",
    "print (len(a1))"
   ]
  },
  {
   "cell_type": "code",
   "execution_count": 1,
   "metadata": {},
   "outputs": [
    {
     "name": "stdout",
     "output_type": "stream",
     "text": [
      "1 4\n",
      "2 5\n",
      "3 6\n"
     ]
    }
   ],
   "source": [
    "# zip together two lists/arrays\n",
    "\n",
    "a1 = [1,2,3]\n",
    "a2 = [4,5,6]\n",
    "for i,j in zip(a1,a2):\n",
    "    print (i,j)"
   ]
  },
  {
   "cell_type": "code",
   "execution_count": 1,
   "metadata": {},
   "outputs": [
    {
     "name": "stdout",
     "output_type": "stream",
     "text": [
      "[0, 1, 2, 3, 4, 5, 6, 7, 8, 9]\n",
      "[0.0, 0.1, 0.2, 0.3, 0.4, 0.5, 0.6, 0.7, 0.8, 0.9]\n"
     ]
    }
   ],
   "source": [
    "# List comprehesion\n",
    "\n",
    "a = [x for x in range(10)]\n",
    "print (a)\n",
    "a = [x/10.0 for x in a]\n",
    "print (a)"
   ]
  },
  {
   "cell_type": "code",
   "execution_count": 1,
   "metadata": {},
   "outputs": [
    {
     "name": "stdout",
     "output_type": "stream",
     "text": [
      "[1, 2, 3, 4]\n",
      "[4, 3, 2, 1]\n",
      "[[7, 8, 9], [9, 5, 6], [1, 2, 3]]\n"
     ]
    }
   ],
   "source": [
    "# Sort list of tuples/lists.\n",
    "\n",
    "a = [1,3,2,4]\n",
    "a.sort()\n",
    "print (a)\n",
    "a.sort(reverse=True)\n",
    "print (a)\n",
    "\n",
    "b = [[1,2,3], [9,5,6], [7,8,9]]\n",
    "#data = [(1,2,3), (9,5,6), (7,8,9)]\n",
    "b.sort(key=lambda x: x[2], reverse=True)\n",
    "print (b)\n",
    "# Note: using 'key=lambda x: x[2]'\n",
    "# Note: using a lambda function\n",
    "# Note: 'reverse' in python vs 'ascending' in Pandas \n",
    "# 'key', 'reverse' are languages of coding\n",
    "# 'sort_values', 'ascending' are languages of Excel"
   ]
  },
  {
   "cell_type": "code",
   "execution_count": 1,
   "metadata": {},
   "outputs": [
    {
     "name": "stdout",
     "output_type": "stream",
     "text": [
      "[(0, 1.0), (1, 2.1), (2, 3.2)]\n"
     ]
    }
   ],
   "source": [
    "# Get pairs from list or array.\n",
    "\n",
    "a = [1.0,2.1,3.2]\n",
    "pair = [(i, a[i]) for i in range(len(a))]\n",
    "print (pair)"
   ]
  },
  {
   "cell_type": "code",
   "execution_count": 1,
   "metadata": {},
   "outputs": [
    {
     "data": {
      "text/plain": [
       "1"
      ]
     },
     "execution_count": 1,
     "metadata": {},
     "output_type": "execute_result"
    }
   ],
   "source": [
    "# List of lists\n",
    "# Using l[i][j] instead of l[i,j]\n",
    "\n",
    "l = [[0,1,0,0],  [1,1,1,0],  [0,1,0,0],  [1,1,0,0]]\n",
    "l[1][1]"
   ]
  },
  {
   "cell_type": "code",
   "execution_count": 1,
   "metadata": {},
   "outputs": [
    {
     "name": "stdout",
     "output_type": "stream",
     "text": [
      "[[0, 0, 0, 0, 0], [0, 0, 0, 0, 0], [0, 0, 0, 0, 0], [0, 0, 0, 0, 0]]\n"
     ]
    }
   ],
   "source": [
    "# List of lists\n",
    "# Initialize list with size\n",
    "\n",
    "l = [[0 for i in range(5)] for j in range(4)]\n",
    "print (l)"
   ]
  },
  {
   "cell_type": "code",
   "execution_count": 1,
   "metadata": {},
   "outputs": [
    {
     "name": "stdout",
     "output_type": "stream",
     "text": [
      "x+[4,5] is: [1, 2, 3, 4, 5]\n",
      "x.append([4,5]) is: [1, 2, 3, [4, 5]]\n",
      "y.extend([4, 5]) is: [1, 2, 3, 4, 5]\n"
     ]
    }
   ],
   "source": [
    "# List append vs extend\n",
    "# Append is for adding one element\n",
    "# Extend is for adding multiple elements or joining two lists\n",
    "\n",
    "x = [1, 2, 3]\n",
    "print ('x+[4,5] is:', x+[4,5])\n",
    "x.append([4,5])\n",
    "print ('x.append([4,5]) is:', x)\n",
    "y = [1,2,3]\n",
    "y.extend([4,5])\n",
    "print ('y.extend([4,5]) is:', y)"
   ]
  },
  {
   "cell_type": "code",
   "execution_count": 1,
   "metadata": {},
   "outputs": [
    {
     "name": "stdout",
     "output_type": "stream",
     "text": [
      "[1, 4, 9, 16, 25]\n",
      "[32, 729, 16384]\n",
      "[-5, -4, -3, -2, -1]\n"
     ]
    }
   ],
   "source": [
    "# map, filter\n",
    "# lambda, comprehension\n",
    "# map(aFunction, aSequence) \n",
    "# filter(aFunction, aSequence) \n",
    "\n",
    "items = [1,2,3,4,5]\n",
    "print (list(map((lambda x: x **2), items)))\n",
    "print (list(map(pow,[2, 3, 4], [5, 6, 7])))  # as pow(x, n) takes in two arguments\n",
    "print (list(filter((lambda x: x < 0), range(-5,5))))"
   ]
  },
  {
   "cell_type": "code",
   "execution_count": 1,
   "metadata": {},
   "outputs": [
    {
     "name": "stdout",
     "output_type": "stream",
     "text": [
      "10\n"
     ]
    }
   ],
   "source": [
    "# Python Operator \n",
    "# Reduce\n",
    "\n",
    "import functools\n",
    "import operator\n",
    "print (functools.reduce(operator.add, [1,2,3,4]))"
   ]
  },
  {
   "cell_type": "code",
   "execution_count": 1,
   "metadata": {},
   "outputs": [
    {
     "name": "stdout",
     "output_type": "stream",
     "text": [
      "Using assignment.\n",
      "1 [1] [1]\n",
      "2 [1, 2] [1, 2]\n",
      "2 [1, 2, 2] [1, 2, 2]\n",
      "Not using assignment.\n",
      "1 [] [1]\n",
      "2 [1] [1, 2]\n",
      "2 [1, 2] [1, 2, 2]\n"
     ]
    }
   ],
   "source": [
    "###################################\n",
    "# List assignment is by reference.#\n",
    "###################################\n",
    "# Using assignment.\n",
    "# 'result' change, then 'temp' change no matter what.\n",
    "\n",
    "print ('Using assignment.')\n",
    "a = [1,2,2]\n",
    "result = []\n",
    "last = float('nan')\n",
    "\n",
    "for i in a:\n",
    "    if i != last:\n",
    "        temp = result\n",
    "    result.append(i)\n",
    "    print (i, temp, result)\n",
    "    \n",
    "\n",
    "# Not using assignment\n",
    "# 'result' change, 'temp' not affected.\n",
    "\n",
    "print ('Not using assignment.')\n",
    "b = [1,2,2]\n",
    "bresult = []\n",
    "btemp = []\n",
    "blast = float('nan')\n",
    "\n",
    "for i in b:\n",
    "    if i != last:\n",
    "        btemp = [j for j in bresult]\n",
    "    bresult.append(i)\n",
    "    print (i, btemp, bresult)"
   ]
  },
  {
   "cell_type": "code",
   "execution_count": 1,
   "metadata": {},
   "outputs": [
    {
     "name": "stdout",
     "output_type": "stream",
     "text": [
      "['aa', 'ab', 'ac', 'ba', 'bb', 'bc', 'ca', 'cb', 'cc']\n"
     ]
    }
   ],
   "source": [
    "# Do not use list append in recursive parameter passing.\n",
    "# Instead using list+[v].\n",
    "# List append in parameter passing refer to the same memory.\n",
    "# Example of combinations of two letters with ['abc']: \n",
    "# ['aa','ab','ac','ba','bb','bc','ca','cb','cc']\n",
    "\n",
    "result = []\n",
    "temp = []\n",
    "def util(i, l, temp, result):\n",
    "    if i == l:\n",
    "        s = ''.join(temp)\n",
    "        result.append(s)\n",
    "        return\n",
    "    \n",
    "    for j in ['a','b','c']:\n",
    "        util(i+1, l, temp+[j], result)\n",
    "\n",
    "util(0, 2, temp, result)\n",
    "print (result)"
   ]
  },
  {
   "cell_type": "code",
   "execution_count": 2,
   "metadata": {},
   "outputs": [
    {
     "name": "stdout",
     "output_type": "stream",
     "text": [
      "['aa', 'aab', 'aabc', 'aba', 'abab', 'ababc', 'abca', 'abcab', 'abcabc']\n"
     ]
    }
   ],
   "source": [
    "# Using list.append() in parameter passing does not work as expected.\n",
    "\n",
    "result = []\n",
    "temp = []\n",
    "def util(i, l, temp, result):\n",
    "    if i == l:\n",
    "        s = ''.join(temp)\n",
    "        result.append(s)\n",
    "        return\n",
    "    \n",
    "    new = [j for j in temp]\n",
    "    for j in ['a','b','c']:\n",
    "        new.append(j)\n",
    "        util(i+1, l, new, result)\n",
    "\n",
    "util(0, 2, temp, result)\n",
    "print (result)"
   ]
  },
  {
   "cell_type": "markdown",
   "metadata": {},
   "source": [
    "# Stack Queue"
   ]
  },
  {
   "cell_type": "code",
   "execution_count": 1,
   "metadata": {},
   "outputs": [
    {
     "data": {
      "text/plain": [
       "[3, 4, 5, 6]"
      ]
     },
     "execution_count": 1,
     "metadata": {},
     "output_type": "execute_result"
    }
   ],
   "source": [
    "# Stack can easily be implemented with List.\n",
    "\n",
    "liststack = [3, 4, 5]\n",
    "liststack.append(6)\n",
    "liststack.append(7)\n",
    "liststack\n",
    "liststack.pop()\n",
    "liststack"
   ]
  },
  {
   "cell_type": "code",
   "execution_count": 1,
   "metadata": {},
   "outputs": [
    {
     "name": "stdout",
     "output_type": "stream",
     "text": [
      "deque(['John', 'Michael', 'Terry', 'Graham'])\n",
      "deque(['John', 'Michael', 'Terry'])\n"
     ]
    }
   ],
   "source": [
    "# Queue in Python is available through collections.deque\n",
    "# deque in Python collections are powerful and support both end operations.\n",
    "\n",
    "from collections import deque\n",
    "queue = deque([\"Eric\", \"John\", \"Michael\"])\n",
    "queue.append(\"Terry\")           # Terry arrives\n",
    "queue.append(\"Graham\")          # Graham arrives\n",
    "queue.popleft()                 # The first to arrive now leaves\n",
    "print (queue)\n",
    "queue.pop()\n",
    "print (queue)"
   ]
  },
  {
   "cell_type": "markdown",
   "metadata": {},
   "source": [
    "# Pandas Plot"
   ]
  },
  {
   "cell_type": "code",
   "execution_count": 1,
   "metadata": {},
   "outputs": [
    {
     "data": {
      "text/plain": [
       "array([[<matplotlib.axes._subplots.AxesSubplot object at 0x113f50b90>]], dtype=object)"
      ]
     },
     "execution_count": 1,
     "metadata": {},
     "output_type": "execute_result"
    },
    {
     "data": {
      "image/png": "[encoded data removed]",
      "text/plain": [
       "<matplotlib.figure.Figure at 0x113f50510>"
      ]
     },
     "metadata": {},
     "output_type": "display_data"
    }
   ],
   "source": [
    "# Pandas Histogram\n",
    "%matplotlib inline\n",
    "import pandas as pd\n",
    "\n",
    "df=pd.read_csv('iris.csv', header=None,names=['A','B','C','D','Target'])\n",
    "df.hist(column='A')"
   ]
  },
  {
   "cell_type": "markdown",
   "metadata": {},
   "source": [
    "# Analysis"
   ]
  },
  {
   "cell_type": "markdown",
   "metadata": {},
   "source": [
    "Multi-collinearity"
   ]
  },
  {
   "cell_type": "code",
   "execution_count": 1,
   "metadata": {},
   "outputs": [
    {
     "data": {
      "text/plain": [
       "array([ 1.28148311,  0.77427877,  1.08708899,  0.9849708 ,  0.87217833])"
      ]
     },
     "execution_count": 1,
     "metadata": {},
     "output_type": "execute_result"
    }
   ],
   "source": [
    "# Get correlation matrix, get eigen values and eigen vectors.\n",
    "# If eigen value is very small, then this is collinearity.\n",
    "# A very low eigen value shows that the data are collinear, and the \n",
    "# corresponding eigen vector shows which variables are collinear.\n",
    "\n",
    "import numpy as np\n",
    "\n",
    "xs = np.random.randn(100, 5)      # independent variables\n",
    "corr = np.corrcoef(xs, rowvar=0)  # correlation matrix\n",
    "w, v = np.linalg.eig(corr)        # eigen values & eigen vectors\n",
    "w"
   ]
  },
  {
   "cell_type": "markdown",
   "metadata": {},
   "source": [
    "PCA Principal Component Analysis"
   ]
  },
  {
   "cell_type": "code",
   "execution_count": 1,
   "metadata": {},
   "outputs": [
    {
     "data": {
      "image/png": "[encoded data removed]",
      "text/plain": [
       "<matplotlib.figure.Figure at 0x106bd0278>"
      ]
     },
     "metadata": {},
     "output_type": "display_data"
    }
   ],
   "source": [
    "# The X and y label positions are corresponding, and X after transformation does not change index position.\n",
    "%matplotlib inline\n",
    "import matplotlib.pyplot as plt\n",
    "from sklearn import datasets\n",
    "from sklearn.decomposition import PCA\n",
    "iris = datasets.load_iris()\n",
    "X = iris.data\n",
    "y = iris.target\n",
    "\n",
    "pca = PCA(n_components=2)\n",
    "pca.fit(X)\n",
    "X = pca.transform(X)\n",
    "\n",
    "fig = plt.figure()\n",
    "ax1 = fig.add_subplot(111)\n",
    "\n",
    "ax1.scatter(X[y==0,0], X[y==0,1], c='r', label='Iris-setosa')\n",
    "ax1.scatter(X[y==1,0], X[y==1,1], c='g', label='Iris-versicolor')\n",
    "ax1.scatter(X[y==2,0], X[y==2,1], c='b', label='Iris-virginica')\n",
    "plt.legend(loc='upper right');\n",
    "plt.xlabel('PC1')\n",
    "plt.ylabel('PC2')\n",
    "plt.show()"
   ]
  },
  {
   "cell_type": "code",
   "execution_count": 1,
   "metadata": {},
   "outputs": [
    {
     "data": {
      "image/png": "[encoded data removed]",
      "text/plain": [
       "<matplotlib.figure.Figure at 0x10c003350>"
      ]
     },
     "metadata": {},
     "output_type": "display_data"
    },
    {
     "name": "stdout",
     "output_type": "stream",
     "text": [
      "[[ 1  2  3  4  5]\n",
      " [ 4  5  6  7  8]\n",
      " [ 7  8  9 10 11]]\n"
     ]
    }
   ],
   "source": [
    "# Matplotlib plot image\n",
    "# im plot array\n",
    "%matplotlib inline\n",
    "import pylab as plt\n",
    "import numpy as np\n",
    "\n",
    "\n",
    "Z=np.array(((1,2,3,4,5),(4,5,6,7,8),(7,8,9,10,11)))\n",
    "im = plt.imshow(Z, cmap='hot')\n",
    "plt.colorbar(im, orientation='horizontal')\n",
    "plt.show()\n",
    "\n",
    "print Z"
   ]
  },
  {
   "cell_type": "markdown",
   "metadata": {},
   "source": [
    "# Cython"
   ]
  },
  {
   "cell_type": "code",
   "execution_count": 2,
   "metadata": {
    "collapsed": true
   },
   "outputs": [],
   "source": [
    "# Using Cython to speed up Python code.\n",
    "%load_ext Cython\n",
    "%%cython\n",
    "def fib_cython(n):\n",
    "    if n<2:\n",
    "        return n\n",
    "    return fib_cython(n-1)+fib_cython(n-2)"
   ]
  },
  {
   "cell_type": "code",
   "execution_count": 3,
   "metadata": {
    "collapsed": true
   },
   "outputs": [],
   "source": [
    "def fib(n):\n",
    "    if n<2:\n",
    "        return n\n",
    "    return fib(n-1)+fib(n-2)"
   ]
  },
  {
   "cell_type": "code",
   "execution_count": 4,
   "metadata": {},
   "outputs": [
    {
     "name": "stdout",
     "output_type": "stream",
     "text": [
      "1000 loops, best of 3: 724 µs per loop\n",
      "100 loops, best of 3: 4.83 ms per loop\n"
     ]
    }
   ],
   "source": [
    "%timeit fib_cython(20)\n",
    "%timeit fib(20)"
   ]
  },
  {
   "cell_type": "code",
   "execution_count": null,
   "metadata": {
    "collapsed": true
   },
   "outputs": [],
   "source": [
    "# Read In XLSX excel file.\n",
    "df = pd.read_excel('Systems.xlsx', sheetname='Overview')"
   ]
  },
  {
   "cell_type": "code",
   "execution_count": 1,
   "metadata": {},
   "outputs": [
    {
     "name": "stdout",
     "output_type": "stream",
     "text": [
      "c is 98, chr(c) is b.\n"
     ]
    }
   ],
   "source": [
    "# character and integer interchange.\n",
    "# convert character to integer and do XOR.\n",
    "\n",
    "a = 'a'\n",
    "b = 'b'\n",
    "c = ord(a)^ord(a)^ord(b)\n",
    "print 'c is %d, chr(c) is %s.'%(c, chr(c))"
   ]
  },
  {
   "cell_type": "code",
   "execution_count": 1,
   "metadata": {},
   "outputs": [
    {
     "name": "stdout",
     "output_type": "stream",
     "text": [
      "[0.5, 1.0, 1.5, 2.0, 2.5]\n"
     ]
    }
   ],
   "source": [
    "# map function with lambda function as parameters\n",
    "def funct(x):\n",
    "    return x/2\n",
    "\n",
    "a = [1,2,3,4,5]\n",
    "b = list(map(lambda x:funct(x), a))\n",
    "print (b)"
   ]
  },
  {
   "cell_type": "code",
   "execution_count": null,
   "metadata": {
    "collapsed": true
   },
   "outputs": [],
   "source": [
    "# Create dictionary from DataFrame, Pandas\n",
    "dict1= df_map.set_index('PID')['Pname'].to_dict()\n",
    "df_new['Pname'] = df_new['Procedure ID'].map(dict1)"
   ]
  },
  {
   "cell_type": "code",
   "execution_count": null,
   "metadata": {
    "collapsed": true
   },
   "outputs": [],
   "source": [
    "# pandas reset index\n",
    "df.reset_index(['index'])"
   ]
  },
  {
   "cell_type": "markdown",
   "metadata": {},
   "source": [
    "# Set operations\n",
    "\n",
    "    a = set([2,3,4,5])\n",
    "    b = set([1,2,3])\n",
    "    a | b = set([1,2,3,4,5])\n",
    "    a - b = set([4,5])\n",
    "    a & b = set([2,3])"
   ]
  },
  {
   "cell_type": "code",
   "execution_count": 1,
   "metadata": {},
   "outputs": [
    {
     "name": "stdout",
     "output_type": "stream",
     "text": [
      "b 1\n",
      "a 2\n",
      "d 1\n",
      "e 1\n",
      "a is: {2, 3, 4, 5}\n",
      "b is: {1, 2, 3}\n",
      "a-b is:  [4, 5]\n",
      "a&b is:  [2, 3]\n",
      "a|b is: {1, 2, 3, 4, 5}\n",
      "a^b is: {1, 4, 5}\n"
     ]
    }
   ],
   "source": [
    "# set operations: \n",
    "a = 'abade'\n",
    "for i in set(a):\n",
    "    print (i, a.count(i))\n",
    "\n",
    "a = set([2,3,4,5,5])\n",
    "b = set([1,2,2,3])\n",
    "print ('a is:', a)\n",
    "print ('b is:', b)\n",
    "print ('a-b is: ', list(a-b))\n",
    "print ('a&b is: ', list(a&b))\n",
    "print ('a|b is:', a|b)\n",
    "print ('a^b is:', a^b)"
   ]
  },
  {
   "cell_type": "code",
   "execution_count": 1,
   "metadata": {},
   "outputs": [
    {
     "name": "stdout",
     "output_type": "stream",
     "text": [
      "Counter({'b': 2, 'a': 1})\n",
      "Counter({'c': 2, 'a': 1})\n",
      "c.get('w') None\n",
      "c.get('w',0) 0\n"
     ]
    }
   ],
   "source": [
    "from collections import Counter\n",
    "\n",
    "c = Counter('aabbcc')\n",
    "d = Counter('abb')\n",
    "print c&d\n",
    "print c-d\n",
    "print 'c.get(\\'w\\')',c.get('w')\n",
    "print 'c.get(\\'w\\',0)', c.get('w',0)"
   ]
  },
  {
   "cell_type": "code",
   "execution_count": 1,
   "metadata": {},
   "outputs": [
    {
     "data": {
      "image/png": "[encoded data removed]",
      "text/plain": [
       "<IPython.core.display.Image object>"
      ]
     },
     "execution_count": 1,
     "metadata": {},
     "output_type": "execute_result"
    }
   ],
   "source": [
    "# Show image in iPython Notebook\n",
    "\n",
    "from IPython.display import Image\n",
    "Image(filename='/Users/212577631/Documents/Jianhui/Work/Files/Pictures/__init__.png')\n",
    "# Image(url='http://python.org/images/python-logo.gif')"
   ]
  },
  {
   "cell_type": "markdown",
   "metadata": {},
   "source": [
    "# Matplotlib"
   ]
  },
  {
   "cell_type": "code",
   "execution_count": 1,
   "metadata": {
    "collapsed": true
   },
   "outputs": [],
   "source": [
    "# Matplotlib commands\n",
    "\n",
    "# Set some parameters to apply to all plots. These can be overridden\n",
    "# in each plot if desired\n",
    "import matplotlib\n",
    "# Plot size to 14\" x 7\"\n",
    "matplotlib.rc('figure', figsize = (14, 7))\n",
    "# Font size to 14\n",
    "matplotlib.rc('font', size = 14)\n",
    "# Do not display top and right frame lines\n",
    "matplotlib.rc('axes.spines', top = False, right = False)\n",
    "# Remove grid lines\n",
    "matplotlib.rc('axes', grid = False)\n",
    "# Set backgound color to white\n",
    "matplotlib.rc('axes', facecolor = 'white')"
   ]
  },
  {
   "cell_type": "markdown",
   "metadata": {},
   "source": [
    "## Pyplot subplot subplots\n",
    "plt.subplots() is a function that returns a tuple containing a figure and axes object(s). \n",
    "Thus when using fig, ax = plt.subplots() you unpack this tuple into the variables fig and ax.\n",
    "\n",
    "    from matplotlib import pyplot as plt\n",
    "    fig, ax = plt.subplots()\n",
    "    plt.savefig('filename')\n",
    "\n",
    "Equals\n",
    "\n",
    "    fig = plt.figure()\n",
    "    ax = fig.add_subplot(111)\n",
    "## Fill in area between lines\n"
   ]
  },
  {
   "cell_type": "code",
   "execution_count": 1,
   "metadata": {},
   "outputs": [
    {
     "data": {
      "image/png": "[encoded data removed]",
      "text/plain": [
       "<matplotlib.figure.Figure at 0x10d0fe390>"
      ]
     },
     "metadata": {},
     "output_type": "display_data"
    }
   ],
   "source": [
    "# Multiple Subplots\n",
    "%matplotlib inline\n",
    "import matplotlib.pyplot as plt\n",
    "import numpy as np\n",
    "\n",
    "x = np.arange(0.0, 2, 0.01)\n",
    "y1 = np.sin(2*np.pi*x)\n",
    "y2 = 1.2*np.sin(4*np.pi*x)\n",
    "\n",
    "fig, (ax1, ax2, ax3) = plt.subplots(3, 1, sharex=True)\n",
    "\n",
    "ax1.plot(x, y1)\n",
    "ax1.set_ylabel('Y1')\n",
    "ax1.axhline(y=0, xmin=0.25, xmax=0.75, color='black', lw=2, alpha=0.5)\n",
    "\n",
    "ax2.fill(x, y2)\n",
    "ax2.set_ylabel('Y2')\n",
    "ax2.grid(True)\n",
    "\n",
    "ax3.fill_between(x, y1, y2, where=y2 >= y1, facecolor='green', interpolate=True)\n",
    "ax3.fill_between(x, y1, y2, where=y2 <= y1, facecolor='red', interpolate=True)\n",
    "ax3.set_ylabel('btn Y1&Y2')\n",
    "ax3.set_xlabel('x')\n",
    "\n",
    "plt.show()"
   ]
  },
  {
   "cell_type": "markdown",
   "metadata": {},
   "source": [
    "## Same X Different Ys\n",
    "### Two plots on same X-axis"
   ]
  },
  {
   "cell_type": "code",
   "execution_count": 1,
   "metadata": {},
   "outputs": [
    {
     "data": {
      "image/png": "[encoded data removed]",
      "text/plain": [
       "<matplotlib.figure.Figure at 0x10c7f0860>"
      ]
     },
     "metadata": {},
     "output_type": "display_data"
    }
   ],
   "source": [
    "%matplotlib inline\n",
    "import matplotlib.pyplot as plt\n",
    "import numpy as np\n",
    "\n",
    "x = np.arange(0.0, 2, 0.01)\n",
    "y1 = np.sin(2*np.pi*x)\n",
    "y2 = 1.2*np.sin(4*np.pi*x)\n",
    "\n",
    "fig, ax1 = plt.subplots(figsize=(4,3))\n",
    "\n",
    "ax1.plot(x, y1)\n",
    "ax1.set_ylabel('Y1')\n",
    "\n",
    "ax2 = ax1.twinx()\n",
    "ax2.plot(x, y2, color = 'r')\n",
    "ax2.set_ylabel('Y2')\n",
    "# Same x different y\n",
    "ax2.spines['right'].set_visible(True)\n",
    "\n",
    "plt.show()"
   ]
  },
  {
   "cell_type": "markdown",
   "metadata": {},
   "source": [
    "# Fine Tune Plot Example\n",
    "## Bar Plot with Error Bar\n",
    "Tune ticks, axis etc."
   ]
  },
  {
   "cell_type": "code",
   "execution_count": 1,
   "metadata": {},
   "outputs": [
    {
     "data": {
      "image/png": "[encoded data removed]",
      "text/plain": [
       "<matplotlib.figure.Figure at 0x105f9cdd8>"
      ]
     },
     "metadata": {},
     "output_type": "display_data"
    }
   ],
   "source": [
    "%matplotlib inline\n",
    "from matplotlib import pyplot as plt\n",
    "\n",
    "x = [1,2,3,4,5,6]\n",
    "y = [2,3,4,3,2,1]\n",
    "y_err = [0.5,0.4,0.5,0.3,0.4,0.45]\n",
    "\n",
    "fig , ax = plt.subplots()\n",
    "ax.bar(x, y, color = '#539caf', align='center')\n",
    "\n",
    "# remove line between error bar\n",
    "ax.errorbar(x,y,y_err,color = '#297083', ls = 'none', lw = 2, capthick = 2)\n",
    "ax.set_ylim([0,5])\n",
    "ax.set_xlim([0,7])\n",
    "#ax.set_xlabel('x')\n",
    "#ax.set_ylabel('y')\n",
    "ax.set_xticks(x)\n",
    "ax.set_xticklabels(('G1','G2','G3','G4','G5','G6'))\n",
    "ax.set_title('Bar with error bar')\n",
    "\n",
    "# Remove the plot frame lines. They are unnecessary chartjunk.\n",
    "ax.spines[\"top\"].set_visible(False) \n",
    "ax.spines[\"left\"].set_visible(False) \n",
    "ax.spines[\"right\"].set_visible(False) \n",
    "\n",
    "# Ensure that the axis ticks only show up on the bottom and left of the plot.\n",
    "ax.get_xaxis().tick_bottom()    \n",
    "ax.get_yaxis().tick_left() \n",
    "\n",
    "# Make sure your axis ticks are large enough to be easily read. \n",
    "plt.xticks(fontsize=14)\n",
    "plt.yticks(fontsize=14)\n",
    "# Remove the tick marks; they are unnecessary with the tick lines we just plotted.\n",
    "plt.tick_params(axis=\"both\", which=\"both\", bottom=\"off\", top=\"off\",    \n",
    "                labelbottom=\"on\", left=\"off\", right=\"off\", labelleft=\"on\")\n",
    "\n",
    "# Provide tick lines across the plot to help your viewers trace along    \n",
    "# the axis ticks. Make sure that the lines are light and small so they    \n",
    "# don't obscure the primary data lines.\n",
    "for y in range(0, 7, 1):    \n",
    "    plt.plot(range(0, 7), [y] * len(range(0, 7)), \"--\", lw=0.5, color=\"black\", alpha=0.3) \n",
    "    \n",
    "# Get an extra text for reading\n",
    "plt.text(4.5, 4.5, 'Set a text here', fontsize=14, color=[x/255.0 for x in [255, 127, 14]])\n",
    "\n",
    "plt.show()"
   ]
  },
  {
   "cell_type": "markdown",
   "metadata": {},
   "source": [
    "## Stacked Bar Plot"
   ]
  },
  {
   "cell_type": "code",
   "execution_count": 1,
   "metadata": {},
   "outputs": [
    {
     "data": {
      "image/png": "[encoded data removed]",
      "text/plain": [
       "<matplotlib.figure.Figure at 0x105c95e48>"
      ]
     },
     "metadata": {},
     "output_type": "display_data"
    }
   ],
   "source": [
    "%matplotlib inline\n",
    "from matplotlib import pyplot as plt\n",
    "\n",
    "x = [1,2,3,4,5]\n",
    "y1 = [1,2,3,2,1]\n",
    "y1err = [0.1,0.2,0.1,0.2,0.1]\n",
    "y2 = [2,1,2,3,1]\n",
    "y2err = [0.1,0.2,0.1,0.2,0.1]\n",
    "\n",
    "fig, ax = plt.subplots()\n",
    "ax.bar(x, y1, yerr=y1err, align='center', color='#539caf',label='Y1')\n",
    "ax.bar(x, y2, yerr=y2err, bottom=y1, align='center', color='#7663b0', label='Y2')\n",
    "ax.set_xlabel('X')\n",
    "ax.set_ylabel('Y')\n",
    "ax.set_title('Stacked Bar Plot')\n",
    "ax.legend(loc = 'upper right')\n",
    "ax.set_ylim([0,6])\n",
    "plt.show()"
   ]
  },
  {
   "cell_type": "markdown",
   "metadata": {},
   "source": [
    "## Grouped Bar Plot"
   ]
  },
  {
   "cell_type": "code",
   "execution_count": 1,
   "metadata": {},
   "outputs": [
    {
     "data": {
      "image/png": "[encoded data removed]",
      "text/plain": [
       "<matplotlib.figure.Figure at 0x10653d198>"
      ]
     },
     "metadata": {},
     "output_type": "display_data"
    }
   ],
   "source": [
    "%matplotlib inline\n",
    "from matplotlib import pyplot as plt\n",
    "\n",
    "x = [1,2,3,4,5]\n",
    "x1 = [a - 0.2 for a in x]\n",
    "x2 = [a + 0.2 for a in x]\n",
    "y1 = [1,2,3,2,1]\n",
    "y2 = [2,1,2,3,1]\n",
    "ind_width = 0.4\n",
    "\n",
    "fig, ax = plt.subplots(figsize=(4,3))\n",
    "ax.bar(x1, y1, align='center', color='#539caf',label='Y1', width=ind_width)\n",
    "ax.bar(x2, y2, align='center', color='#7663b0', label='Y2', width=ind_width)\n",
    "ax.set_xlabel('X',fontsize=12)\n",
    "ax.set_ylabel('Y',fontsize=12)\n",
    "ax.set_title('Grouped Bar Plot')\n",
    "ax.legend(loc = 'upper right',fontsize=10)\n",
    "ax.set_ylim([0,4])\n",
    "plt.show()"
   ]
  },
  {
   "cell_type": "markdown",
   "metadata": {},
   "source": [
    "## Box Plot"
   ]
  },
  {
   "cell_type": "code",
   "execution_count": 1,
   "metadata": {},
   "outputs": [
    {
     "data": {
      "image/png": "[encoded data removed]",
      "text/plain": [
       "<matplotlib.figure.Figure at 0x1066949b0>"
      ]
     },
     "metadata": {},
     "output_type": "display_data"
    }
   ],
   "source": [
    "%matplotlib inline\n",
    "from matplotlib import pyplot as plt\n",
    "\n",
    "y = [[1.1,1.2,1.3],[1.2,1.3,1.4],[1.1,1.2,1.3]]\n",
    "fig, ax = plt.subplots()\n",
    "ax.boxplot(y\n",
    "           # patch_artist must be True to control box fill\n",
    "           , patch_artist = True\n",
    "           # Properties of median line\n",
    "           , medianprops = {'color': '#297083'}\n",
    "           # Properties of box\n",
    "           , boxprops = {'color': '#539caf', 'facecolor': '#539caf'}\n",
    "           # Properties of whiskers\n",
    "           , whiskerprops = {'color': '#539caf'}\n",
    "           # Properties of whisker caps\n",
    "           , capprops = {'color': '#539caf'})\n",
    "ax.set_xticklabels([1,2,3])\n",
    "ax.set_xlabel('X')\n",
    "ax.set_ylabel('Y')\n",
    "ax.set_title('Box Plot',fontsize=9)\n",
    "ax.set_ylim([1.0, 1.5])\n",
    "plt.suptitle(\"A Default Box Plot Try\", fontsize=11)\n",
    "plt.show()\n"
   ]
  },
  {
   "cell_type": "code",
   "execution_count": 1,
   "metadata": {},
   "outputs": [
    {
     "data": {
      "image/png": "[encoded data removed]",
      "text/plain": [
       "<matplotlib.figure.Figure at 0x10b947668>"
      ]
     },
     "metadata": {},
     "output_type": "display_data"
    }
   ],
   "source": [
    "# Multiple subplots\n",
    "# Set log scale\n",
    "%matplotlib inline\n",
    "import matplotlib.pyplot as plt\n",
    "import numpy as np\n",
    "\n",
    "x = np.arange(0,20)\n",
    "y1 = np.sin(x)\n",
    "y2 = np.cos(x)\n",
    "\n",
    "fig = plt.figure()\n",
    "ax1 = fig.add_subplot(211)\n",
    "ax1.plot(x, y1)\n",
    "ax1.set_title('Two Plots')\n",
    "ax1.set_ylabel('Sin')\n",
    "# \"111\" means \"1x1 grid, first subplot\" and \"234\" means \"2x3 grid, 4th subplot\".\n",
    "\n",
    "ax2 = fig.add_subplot(212,sharex=ax1)\n",
    "ax2.plot(x, y2)\n",
    "ax2.set_xlabel('X')\n",
    "ax2.set_ylabel('Cos')\n",
    "\n",
    "plt.savefig('Temp.png')"
   ]
  },
  {
   "cell_type": "markdown",
   "metadata": {},
   "source": [
    "## Pie Plot"
   ]
  },
  {
   "cell_type": "code",
   "execution_count": 1,
   "metadata": {},
   "outputs": [
    {
     "data": {
      "image/png": "[encoded data removed]",
      "text/plain": [
       "<matplotlib.figure.Figure at 0x10c8ffba8>"
      ]
     },
     "metadata": {},
     "output_type": "display_data"
    }
   ],
   "source": [
    "# Pie chart\n",
    "%matplotlib inline\n",
    "from matplotlib import pyplot as plt\n",
    "\n",
    "fig, ax = plt.subplots(figsize=(4,4))\n",
    "labels = 'Frogs', 'Hogs', 'Dogs', 'Logs'\n",
    "sizes = [15, 30, 45, 10]\n",
    "colors = ['yellowgreen', 'gold', 'lightskyblue', 'lightcoral']\n",
    "explode = (0, 0.1, 0, 0) # only \"explode\" the 2nd slice (i.e. 'Hogs')\n",
    "\n",
    "patches, texts, autotexts = ax.pie(sizes, explode=explode, labels=labels, colors=colors,\n",
    "        autopct='%1.1f%%', shadow=True, startangle=90)\n",
    "# Set aspect ratio to be equal so that pie is drawn as a circle.\n",
    "texts[0].set_fontsize(8)\n",
    "autotexts[0].set_fontsize(8)\n",
    "plt.axis('equal')\n",
    "plt.show()"
   ]
  },
  {
   "cell_type": "markdown",
   "metadata": {
    "collapsed": true
   },
   "source": [
    "## Broken Bar Plot"
   ]
  },
  {
   "cell_type": "code",
   "execution_count": 1,
   "metadata": {},
   "outputs": [
    {
     "data": {
      "image/png": "[encoded data removed]",
      "text/plain": [
       "<matplotlib.figure.Figure at 0x106630fd0>"
      ]
     },
     "metadata": {},
     "output_type": "display_data"
    }
   ],
   "source": [
    "%matplotlib inline\n",
    "import matplotlib.pyplot as plt\n",
    "\n",
    "fig, ax = plt.subplots(figsize=(6,4))\n",
    "ax.broken_barh([(110, 30), (150, 10)], (10, 9), facecolors='blue')\n",
    "ax.broken_barh([(10, 50), (100, 20), (130, 10)], (20, 9),\n",
    "               facecolors=('red', 'yellow', 'green'))\n",
    "ax.set_ylim(5, 35)\n",
    "ax.set_xlim(0, 200)\n",
    "ax.set_xlabel('seconds since start')\n",
    "ax.set_yticks([15, 25])\n",
    "ax.set_yticklabels(['Bill', 'Jim'])\n",
    "ax.grid(True)\n",
    "ax.annotate('race interrupted', xy=(61, 25),\n",
    "            xytext=(0.8, 0.9), textcoords='axes fraction',\n",
    "            arrowprops=dict(facecolor='black', shrink=0.05),\n",
    "            fontsize=16,\n",
    "            horizontalalignment='right', verticalalignment='top')\n",
    "\n",
    "plt.show()"
   ]
  },
  {
   "cell_type": "markdown",
   "metadata": {},
   "source": [
    "## Polar Plot"
   ]
  },
  {
   "cell_type": "code",
   "execution_count": 1,
   "metadata": {},
   "outputs": [
    {
     "data": {
      "image/png": "[encoded data removed]",
      "text/plain": [
       "<matplotlib.figure.Figure at 0x10658be48>"
      ]
     },
     "metadata": {},
     "output_type": "display_data"
    }
   ],
   "source": [
    "import numpy as np\n",
    "import matplotlib.pyplot as plt\n",
    "\n",
    "fig = plt.figure()\n",
    "ax = fig.add_subplot(111, polar=True)\n",
    "r = np.arange(0,1,0.001)\n",
    "theta = 2*2*np.pi*r\n",
    "line, = ax.plot(theta, r, color='#ee8d18', lw=3)\n",
    "plt.show()"
   ]
  },
  {
   "cell_type": "markdown",
   "metadata": {},
   "source": [
    "## Events Plot"
   ]
  },
  {
   "cell_type": "code",
   "execution_count": 1,
   "metadata": {},
   "outputs": [
    {
     "data": {
      "image/png": "[encoded data removed]",
      "text/plain": [
       "<matplotlib.figure.Figure at 0x1066554a8>"
      ]
     },
     "metadata": {},
     "output_type": "display_data"
    }
   ],
   "source": [
    "%matplotlib inline\n",
    "import numpy as np\n",
    "from matplotlib import pyplot as plt\n",
    "\n",
    "event1 = np.random.random([2, 100])\n",
    "event2 = np.random.gamma(0.5, size=[50,100])\n",
    "lineoffset = np.array([1, 5])\n",
    "linelength = [1,2.5]\n",
    "lineoffset2 = 1\n",
    "linelength2 = 1\n",
    "fig, axes = plt.subplots(nrows=2, ncols=2, figsize=(7,3), sharex=True)\n",
    "axes[0][0].eventplot(event1, colors=[[1,0,0],[1,0,1]], lineoffsets=lineoffset,\n",
    "            linelengths=linelength, linewidths=[1,3],\n",
    "            linestyles=['solid','solid'])\n",
    "axes[0][1].eventplot(event2, colors=[[0,0,0]], lineoffsets=1,\n",
    "            linelengths=0.5, orientation='horizontal')\n",
    "axes[0][1].set_ylim(-2,51)\n",
    "axes[0][1].set_xlim([0,1])\n",
    "plt.show()"
   ]
  },
  {
   "cell_type": "markdown",
   "metadata": {},
   "source": [
    "## Histogram Plot & Scattered Plot\n",
    "### Great color resources:\n",
    "    http://colorbrewer2.org/#type=sequential&scheme=YlGn&n=9\n",
    "    http://tableaufriction.blogspot.ro/2012/11/finally-you-can-use-tableau-data-colors.html"
   ]
  },
  {
   "cell_type": "code",
   "execution_count": 7,
   "metadata": {},
   "outputs": [
    {
     "data": {
      "image/png": "[encoded data removed]",
      "text/plain": [
       "<matplotlib.figure.Figure at 0x10fb969b0>"
      ]
     },
     "metadata": {},
     "output_type": "display_data"
    }
   ],
   "source": [
    "%matplotlib inline\n",
    "import numpy as np\n",
    "import matplotlib.pyplot as plt\n",
    "\n",
    "np.random.seed(0)\n",
    "mu = 100  # mean of distribution\n",
    "sigma = 15  # standard deviation of distribution\n",
    "x = mu + sigma * np.random.randn(437)\n",
    "x1 = np.random.rand(50)\n",
    "y1 = np.random.rand(50)\n",
    "colors = np.random.rand(50)\n",
    "area = np.pi*(15 * np.random.rand(50))**2\n",
    "\n",
    "num_bins = 50\n",
    "color = [x/255.0 for x in [237,102,93]]\n",
    "fig, ax = plt.subplots(nrows=1, ncols=2, figsize=(8,3))\n",
    "n, bins, patches = ax[0].hist(x, num_bins, normed=1, color=color)\n",
    "ax[1].scatter(x1, y1, s=area, c=colors, alpha=0.5)\n",
    "plt.show()"
   ]
  },
  {
   "cell_type": "markdown",
   "metadata": {},
   "source": [
    "## Stacked Plot"
   ]
  },
  {
   "cell_type": "code",
   "execution_count": 1,
   "metadata": {},
   "outputs": [
    {
     "data": {
      "image/png": "[encoded data removed]",
      "text/plain": [
       "<matplotlib.figure.Figure at 0x104c49a90>"
      ]
     },
     "metadata": {},
     "output_type": "display_data"
    }
   ],
   "source": [
    "%matplotlib inline\n",
    "import numpy as np\n",
    "import matplotlib.pyplot as plt\n",
    "\n",
    "def fnx():\n",
    "    return np.random.randint(5, 50, 10)\n",
    "\n",
    "y = np.row_stack((fnx(), fnx(), fnx()))\n",
    "x = np.arange(10)\n",
    "\n",
    "y1, y2, y3 = fnx(), fnx(), fnx()\n",
    "\n",
    "fig, ax = plt.subplots(1, 2, figsize=(8,3), sharey=True)\n",
    "ax[0].stackplot(x, y, colors=['#41ae76','#969696','#fc4e2a'])\n",
    "ax[1].stackplot(x, y1, y2, y3, colors=['#f7fcb9','#78c679','#004529'])\n",
    "plt.show()"
   ]
  },
  {
   "cell_type": "markdown",
   "metadata": {},
   "source": [
    "## Using Plotly for Plots Example"
   ]
  },
  {
   "cell_type": "code",
   "execution_count": 1,
   "metadata": {
    "collapsed": true
   },
   "outputs": [],
   "source": [
    "#  import plotly.plotly as py\n",
    "#  import matplotlib.pyplot as plt\n",
    "#  import numpy as np\n",
    "#  py.sign_in('justinnew','YqtA9aVcQqaZeCHN1YrG')\n",
    "#  fig, ax = plt.subplots(figsize=(4,3))\n",
    "#  x = range(0,100)\n",
    "#  y = np.random.randn(100)\n",
    "#  ax = plt.plot(x, y)\n",
    "#  py.iplot_mpl(fig)"
   ]
  },
  {
   "cell_type": "code",
   "execution_count": 1,
   "metadata": {},
   "outputs": [
    {
     "name": "stdout",
     "output_type": "stream",
     "text": [
      "<class 'str'>\n",
      "1176896\n",
      "The Project Gutenberg EBook of Crime and Punishment, by Fyodor Dostoevsky\r\n",
      "\n"
     ]
    }
   ],
   "source": [
    "# Open URL and read content.\n",
    "from urllib import request\n",
    "url = \"http://www.gutenberg.org/files/2554/2554.txt\"\n",
    "response = request.urlopen(url)\n",
    "raw = response.read().decode('utf8')\n",
    "print (type(raw))\n",
    "print (len(raw))\n",
    "print (raw[:75])"
   ]
  },
  {
   "cell_type": "code",
   "execution_count": 1,
   "metadata": {},
   "outputs": [
    {
     "name": "stdout",
     "output_type": "stream",
     "text": [
      "<!doctype html public \"-//W3C//DTD HTML 4.0 Transitional//EN\n",
      "981\n"
     ]
    }
   ],
   "source": [
    "# Open URL, read in html and get text.\n",
    "from urllib import request\n",
    "from nltk import word_tokenize\n",
    "url = \"http://news.bbc.co.uk/2/hi/health/2284783.stm\"\n",
    "html = request.urlopen(url).read().decode('utf8')\n",
    "print (html[:60])\n",
    "from bs4 import BeautifulSoup\n",
    "raw = BeautifulSoup(html,\"lxml\").get_text()\n",
    "tokens = word_tokenize(raw)\n",
    "print (len(tokens))"
   ]
  },
  {
   "cell_type": "code",
   "execution_count": 1,
   "metadata": {},
   "outputs": [
    {
     "name": "stdout",
     "output_type": "stream",
     "text": [
      "Please enter your name:Jianhui Tian\n",
      "Hello, Jianhui Tian. How was your weekend?\n"
     ]
    }
   ],
   "source": [
    "# User input, keyboard input.\n",
    "s = input('Please enter your name:')\n",
    "print ('Hello, %s. How was your weekend?'%s)"
   ]
  },
  {
   "cell_type": "code",
   "execution_count": 1,
   "metadata": {},
   "outputs": [
    {
     "name": "stdout",
     "output_type": "stream",
     "text": [
      "{'letter(a)': 97, 'letter(b)': 98, 'letter(c)': 99, 'letter(d)': 100}\n"
     ]
    }
   ],
   "source": [
    "# Dictionary key format\n",
    "d = {}\n",
    "for a in 'abcd':\n",
    "    d['letter({})'.format(a)] = ord(a)\n",
    "print (d)"
   ]
  },
  {
   "cell_type": "markdown",
   "metadata": {
    "collapsed": true
   },
   "source": [
    "## Pandas Data Munging Data Wrangling"
   ]
  },
  {
   "cell_type": "code",
   "execution_count": 1,
   "metadata": {},
   "outputs": [
    {
     "name": "stdout",
     "output_type": "stream",
     "text": [
      "1    4\n",
      "Name: square, dtype: int64\n"
     ]
    },
    {
     "data": {
      "text/html": [
       "<div>\n",
       "<table border=\"1\" class=\"dataframe\">\n",
       "  <thead>\n",
       "    <tr style=\"text-align: right;\">\n",
       "      <th></th>\n",
       "      <th>new</th>\n",
       "      <th>add</th>\n",
       "      <th>sub</th>\n",
       "      <th>large3</th>\n",
       "      <th>square</th>\n",
       "    </tr>\n",
       "  </thead>\n",
       "  <tbody>\n",
       "    <tr>\n",
       "      <th>0</th>\n",
       "      <td>1</td>\n",
       "      <td>2.0</td>\n",
       "      <td>1.0</td>\n",
       "      <td>False</td>\n",
       "      <td>0.5</td>\n",
       "    </tr>\n",
       "    <tr>\n",
       "      <th>1</th>\n",
       "      <td>2</td>\n",
       "      <td>3.0</td>\n",
       "      <td>1.0</td>\n",
       "      <td>False</td>\n",
       "      <td>2.0</td>\n",
       "    </tr>\n",
       "    <tr>\n",
       "      <th>2</th>\n",
       "      <td>3</td>\n",
       "      <td>4.0</td>\n",
       "      <td>1.0</td>\n",
       "      <td>True</td>\n",
       "      <td>4.5</td>\n",
       "    </tr>\n",
       "    <tr>\n",
       "      <th>4</th>\n",
       "      <td>2</td>\n",
       "      <td>6.0</td>\n",
       "      <td>4.0</td>\n",
       "      <td>False</td>\n",
       "      <td>2.0</td>\n",
       "    </tr>\n",
       "  </tbody>\n",
       "</table>\n",
       "</div>"
      ],
      "text/plain": [
       "   new  add  sub large3  square\n",
       "0    1  2.0  1.0  False     0.5\n",
       "1    2  3.0  1.0  False     2.0\n",
       "2    3  4.0  1.0   True     4.5\n",
       "4    2  6.0  4.0  False     2.0"
      ]
     },
     "execution_count": 1,
     "metadata": {},
     "output_type": "execute_result"
    }
   ],
   "source": [
    "# Encoding Problem\n",
    "# Try using 'ISO-8859-1' if there is 'utf-8' error.\n",
    "# df = pd.read_csv('file.csv', sep=',', quotechar='\"', enconding='ISO-8859-1')\n",
    "# Note: names=['A','B','C'] in pd.read_csv()\n",
    "# vs. columns=['A','B','C'] in pd.DataFrame()\n",
    "\n",
    "import pandas as pd\n",
    "import numpy as np\n",
    "\n",
    "# Create DataFrame From Dictionary.\n",
    "# Python 3.X.\n",
    "df = pd.DataFrame(list(data.items()), columns=['Date', 'DateValue'])\n",
    "df['Date'] = pd.to_datetime(df['Date'])\n",
    "\n",
    "\n",
    "# Create DataFrame From dict of ndarrays / lists\n",
    "\n",
    "d1 = {'one' : [1., 2., 3., 4.], 'two' : ['4', '3', '2', '1']}\n",
    "df1 = pd.DataFrame(d1)\n",
    "\n",
    "# Check column types\n",
    "\n",
    "df1.dtypes\n",
    "df1['two'].dtypes \n",
    "# df1['two'].dtype, also works\n",
    "\n",
    "# Convert string to numeric.\n",
    "# Change data type.\n",
    "\n",
    "df1['two'] = pd.to_numeric(df1['two'], errors='coerce')\n",
    "# Or using \n",
    "\n",
    "# df1['two] = df1['two'].astype('float')\n",
    "# df1['two] = df1['two'].astype('int64')\n",
    "\n",
    "# Convert String to Datetime\n",
    "\n",
    "# df['col'] = pd.to_datetime(df['col'], format=\"%m/%d/%Y %H:%M:%S\")\n",
    "# df.col.dt.day\n",
    "# df.col.dt.weekday\n",
    "# df.col.dt.month\n",
    "# df.col.dt.year\n",
    "\n",
    "# Creat DataFrame From a list of dicts\n",
    "\n",
    "d2 = [{'a': 1, 'b': 2}, {'a': 5, 'b': 10, 'c': 20}]\n",
    "df2 = pd.DataFrame(d2)\n",
    "\n",
    "# Create DataFrame From list\n",
    "\n",
    "a = [1,2,3,4,2,2,5]\n",
    "df = pd.DataFrame(a, columns=['new'])\n",
    "\n",
    "b = [2,3,4,5,6,6]\n",
    "df['add'] = pd.DataFrame(b)\n",
    "\n",
    "# Get new column by math of existing ones.\n",
    "\n",
    "df['sub'] = df['add'] - df['new']\n",
    "# df = df.assign(sub=df['add] - df['new])\n",
    "\n",
    "# Check column names\n",
    "\n",
    "df.columns\n",
    "\n",
    "# Check unique values of column\n",
    "\n",
    "df.new.unique()\n",
    "\n",
    "# Group by and count the number\n",
    "\n",
    "df.groupby('new').count()\n",
    "\n",
    "# Group by 'column1' and get the sum for 'column2'\n",
    "\n",
    "# df.groupby('column1').agg({'column2':np.sum, 'column3':np.mean})\n",
    "df[['new','add']].groupby('new').sum()\n",
    "\n",
    "# Check the NULL number and not NULL number for 'column1'\n",
    "\n",
    "df.isnull().sum()\n",
    "df.notnull().sum().tolist()\n",
    "\n",
    "# Check Duplicate\n",
    "\n",
    "df.duplicated()\n",
    "df.drop_duplicates(inplace=True)\n",
    "\n",
    "# Adding new column by mapping\n",
    "\n",
    "df['large3'] = df['new'].map(lambda x: True if x >=3 else False)\n",
    "\n",
    "# Sort by column values\n",
    "\n",
    "df.sort_values(by='new', ascending=False)\n",
    "# Note: sort_values, instead of sort_value.\n",
    "# Note: 'by=['col1']' vs list.sort(key=lambda x: x[1])\n",
    "# Sort dataframe by multiple columns\n",
    "# df = df.sort_values(by=['col1','col2','col3'],ascending=[1,1,0])\n",
    "\n",
    "# Fill in NaN\n",
    "\n",
    "# df.fillna(0, inplace=True)\n",
    "df.fillna({'add':0,'sub':-1}, inplace=True)\n",
    "\n",
    "# NaN vs None\n",
    "# NaN is a numeric value. None is an internal Python type (NoneType)\n",
    "# NaN can be used as a numerical value on mathematical operations, while None cannot (or at least shouldn't).\n",
    "# NaN can not be compared to NaN.\n",
    "\n",
    "# Pandas Axis\n",
    "# axis=0 along the rows (namely, index in pandas), and axis=1 along the columns.\n",
    "\n",
    "# Set Value for some cell\n",
    "\n",
    "df.set_value(6, 'sub', 0)\n",
    "# Note: it's a function call. Cannot use '='.\n",
    "\n",
    "# map function with a function as parameter \n",
    "# using lambda function\n",
    "# change for this column\n",
    "\n",
    "def f_t(x):\n",
    "    return x**2\n",
    "\n",
    "df['square'] = df['new'].map(lambda x:f_t(x))\n",
    "\n",
    "# Selection with two conditions\n",
    "print (df[(df['new']==2) & (df['sub']==1)]['square'])\n",
    "# Note the \"()\" and \"&\"\n",
    "\n",
    "# using loc for change values\n",
    "# df.loc[(df['column1'] == some_value) & (df['column2'] == some_other_value), ['column_to_change']] = new_value\n",
    "df.loc[(df['new']==2) & (df['sub']==4),['square']] = 36\n",
    "df.loc[df['new'].notnull(), ['square']] = df['new']**2 / 2\n",
    "# Note: using '[]' instead of '()'\n",
    "\n",
    "# Add new column to DataFrame.\n",
    "# df.assign(columnname=Series/Scalar/Array)\n",
    "# Note: Need to assign again, otherwise it did not change the original one.\n",
    "# Note: It's a function call to the DataFrame, df.assign()\n",
    "temp = df['new']**3\n",
    "df = df.assign(cube=temp)\n",
    "# Or:\n",
    "# df = df.assign(test=df['new']**3)\n",
    "\n",
    "\n",
    "# Delete Column\n",
    "\n",
    "df.drop('cube', axis=1, inplace=True)\n",
    "# Note: df.drop() the default axis is 0.\n",
    "# Or using 'del'\n",
    "# del df['cube']\n",
    "# Or using \"pop()\"\n",
    "# df.pop('cube')\n",
    "\n",
    "# Set Index\n",
    "\n",
    "# df.index = df['date']\n",
    "\n",
    "# Select row according to values.\n",
    "\n",
    "df[df['new'].isin([1,2,3])]\n",
    "\n",
    "# Rename\n",
    "\n",
    "df.rename(columns={'new':'base'}, inplace=True)\n",
    "#Note: columns, df.rename(columns={}, inplace=True)\n",
    "\n",
    "# DataFrame Tanspose\n",
    "df.T"
   ]
  },
  {
   "cell_type": "code",
   "execution_count": 1,
   "metadata": {
    "collapsed": true
   },
   "outputs": [],
   "source": [
    "# Select all numeric columns\n",
    "\n",
    "import pandas as pd\n",
    "df = pd.read_csv('iris.csv')\n",
    "numerics = ['int16', 'int32', 'int64', 'float16', 'float32', 'float64']\n",
    "df = df.select_dtypes(include=numerics)"
   ]
  },
  {
   "cell_type": "code",
   "execution_count": 1,
   "metadata": {},
   "outputs": [
    {
     "name": "stdout",
     "output_type": "stream",
     "text": [
      "Before:     first  color\n",
      "0      4    Red\n",
      "1      5  Green\n",
      "2      6   Blue\n",
      "After:     first  color  ordinal\n",
      "0      4    Red        1\n",
      "1      5  Green        2\n",
      "2      6   Blue        3\n"
     ]
    }
   ],
   "source": [
    "# Map string/categorical to numeric in Pandas DataFrame\n",
    "\n",
    "import pandas as pd\n",
    "test = pd.DataFrame([4,5,6], columns=['first'])\n",
    "test['color']=pd.DataFrame(['Red','Green','Blue'])\n",
    "print (\"Before: \", test)\n",
    "di = {'Red':1, 'Green':2, 'Blue':3}\n",
    "test['ordinal'] = test['color'].map(lambda x: di[x])\n",
    "print (\"After: \", test)"
   ]
  },
  {
   "cell_type": "code",
   "execution_count": 1,
   "metadata": {},
   "outputs": [
    {
     "data": {
      "text/html": [
       "<div>\n",
       "<table border=\"1\" class=\"dataframe\">\n",
       "  <thead>\n",
       "    <tr style=\"text-align: right;\">\n",
       "      <th></th>\n",
       "      <th>first</th>\n",
       "    </tr>\n",
       "    <tr>\n",
       "      <th>ni</th>\n",
       "      <th></th>\n",
       "    </tr>\n",
       "  </thead>\n",
       "  <tbody>\n",
       "    <tr>\n",
       "      <th>0</th>\n",
       "      <td>0</td>\n",
       "    </tr>\n",
       "    <tr>\n",
       "      <th>1</th>\n",
       "      <td>1</td>\n",
       "    </tr>\n",
       "    <tr>\n",
       "      <th>2</th>\n",
       "      <td>3</td>\n",
       "    </tr>\n",
       "    <tr>\n",
       "      <th>3</th>\n",
       "      <td>4</td>\n",
       "    </tr>\n",
       "  </tbody>\n",
       "</table>\n",
       "</div>"
      ],
      "text/plain": [
       "    first\n",
       "ni       \n",
       "0       0\n",
       "1       1\n",
       "2       3\n",
       "3       4"
      ]
     },
     "execution_count": 1,
     "metadata": {},
     "output_type": "execute_result"
    }
   ],
   "source": [
    "# Row selection, reindex\n",
    "\n",
    "import pandas as pd\n",
    "df = pd.DataFrame(list(range(0,5)), columns=['first'])\n",
    "df = df[~(df['first']==2)]\n",
    "newindex = range(0,len(df))\n",
    "df['ni']=newindex\n",
    "df = df.set_index('ni')\n",
    "df"
   ]
  },
  {
   "cell_type": "code",
   "execution_count": null,
   "metadata": {
    "collapsed": true
   },
   "outputs": [],
   "source": [
    "# Groupby and Divide\n",
    "# The customers DF has 'State', 'Distribution Mode' and 'UCN' columns.\n",
    "\n",
    "customers.groupby('State').apply(lambda x: x[x['Distribution Mode']=='Indirect'].UCN/x['UCN'].sum())"
   ]
  },
  {
   "cell_type": "code",
   "execution_count": 1,
   "metadata": {},
   "outputs": [
    {
     "name": "stdout",
     "output_type": "stream",
     "text": [
      "[5.0999999999999996, 3.5, 1.3999999999999999, 0.20000000000000001]\n",
      "{'A': 5.0999999999999996, 'B': 3.5, 'C': 1.3999999999999999, 'D': 0.20000000000000001}\n",
      "[5.0999999999999996 3.5 1.3999999999999999 0.20000000000000001]\n"
     ]
    }
   ],
   "source": [
    "# Pandas to list, to dictionary, to array\n",
    "import pandas as pd\n",
    "\n",
    "df=pd.read_csv('iris.csv', header=None, names=['A','B','C','D','Class'])\n",
    "print (df.iloc[0,:-1].tolist())\n",
    "print (df.iloc[0,:-1].to_dict())\n",
    "print (df.iloc[0,:-1].as_matrix())"
   ]
  },
  {
   "cell_type": "code",
   "execution_count": 1,
   "metadata": {},
   "outputs": [
    {
     "data": {
      "text/plain": [
       "A    1.666667\n",
       "B    1.666667\n",
       "dtype: float64"
      ]
     },
     "execution_count": 1,
     "metadata": {},
     "output_type": "execute_result"
    }
   ],
   "source": [
    "# Get mean, median, variance, standard deviation\n",
    "\n",
    "import pandas as pd\n",
    "a = {'A':[1,2,3,4],'B':[2,3,4,5]}\n",
    "df = pd.DataFrame(a)\n",
    "df.var()\n",
    "# df.mean(), df.sum(), df.median(), df.std()"
   ]
  },
  {
   "cell_type": "markdown",
   "metadata": {},
   "source": [
    "## Pandas Time Series"
   ]
  },
  {
   "cell_type": "code",
   "execution_count": 1,
   "metadata": {},
   "outputs": [
    {
     "data": {
      "text/plain": [
       "0    4\n",
       "1    6\n",
       "2    1\n",
       "3    3\n",
       "Name: time, dtype: int64"
      ]
     },
     "execution_count": 1,
     "metadata": {},
     "output_type": "execute_result"
    }
   ],
   "source": [
    "import pandas as pd\n",
    "\n",
    "# a = pd.date_range(start='2016/01/01', periods=100, freq='3H')\n",
    "a = pd.date_range(start='2016/01/01', end='2016/01/07', freq='2D')\n",
    "df = pd.DataFrame(a,columns=['time'])\n",
    "df.time.dt.weekday\n",
    "# Note: \n",
    "#    'periodS'\n",
    "#    freq = '*'"
   ]
  },
  {
   "cell_type": "markdown",
   "metadata": {},
   "source": [
    "## Regular Expression\n",
    "    '*' 0 or more\n",
    "    '+' 1 or more\n",
    "    '?' 0 or 1\n",
    "    '\\d' digit\n",
    "    '\\s' whitespace\n",
    "    '\\S' non-whitespace \n",
    "    search() vs match()\n",
    "    re.search() and re.match() return a Match Object.\n",
    "    Match objects always have a boolean value of True. \n",
    "\n",
    "    search() and match() both search for first occurrence.\n",
    "    match(), checks for a match only at the beginning of the string.\n",
    "    search(), searches for first occurrence of RE pattern within string. \n",
    "    \n",
    "    re.findall(pattern, string), returns a list of strings"
   ]
  },
  {
   "cell_type": "code",
   "execution_count": 1,
   "metadata": {},
   "outputs": [
    {
     "name": "stdout",
     "output_type": "stream",
     "text": [
      "entire matches:  Isaac Newton\n",
      "group(1): Isaac\n",
      "group(2): Newton\n",
      "('Isaac', 'Newton')\n",
      "abc\n",
      "['abc', 'cba']\n",
      "abccba\n",
      "['onday']\n"
     ]
    }
   ],
   "source": [
    "import re\n",
    "\n",
    "### NOTE ###\n",
    "# 1, 2, ... in group() corresponding to patterns in '()'.\n",
    "# Pay attention to '()' in pattern.\n",
    "# Without '()' only use group(0)\n",
    "\n",
    "m = re.search(r'([a-zA-Z]+) ([a-zA-Z]+)', '1990 Isaac Newton, physicist')\n",
    "# group(0), the entire match\n",
    "print ('entire matches: ', m.group(0))  \n",
    "\n",
    "# group(1), the first parenthesized subgroup.\n",
    "print ('group(1):',m.group(1)) \n",
    "\n",
    "# group(2), the second parenthesized subgroup.\n",
    "print ('group(2):',m.group(2)) \n",
    "\n",
    "print (m.group(1, 2))    \n",
    "\n",
    "str = '()abc{}cba'\n",
    "\n",
    "# Using match.group(1) with '()' in pattern\n",
    "match = re.search(r'([a-zA-Z]+)',str)\n",
    "print (match.group(1))\n",
    "\n",
    "# re.findall() returns a lit of strings\n",
    "match = re.findall(r'[a-zA-Z]+', str)\n",
    "print (match)\n",
    "print (''.join(match))\n",
    "\n",
    "# m copies of the previous RE\n",
    "match = re.findall(r'[a-z]{5}', 'It is a good Monday.')\n",
    "print (match)"
   ]
  },
  {
   "cell_type": "markdown",
   "metadata": {},
   "source": [
    "# String Operations"
   ]
  },
  {
   "cell_type": "code",
   "execution_count": 1,
   "metadata": {},
   "outputs": [
    {
     "name": "stdout",
     "output_type": "stream",
     "text": [
      "it is a capital one.\n"
     ]
    }
   ],
   "source": [
    "# Lower cases\n",
    "\n",
    "s = 'It is a Capital One.'\n",
    "print (s.lower())"
   ]
  },
  {
   "cell_type": "code",
   "execution_count": 1,
   "metadata": {},
   "outputs": [
    {
     "name": "stdout",
     "output_type": "stream",
     "text": [
      "['dog', 'cat', 'cat', 'dog']\n",
      "['a', 'b', 'b', 'a']\n"
     ]
    }
   ],
   "source": [
    "# split string\n",
    "\n",
    "s = \"dog cat cat dog\"\n",
    "print (s.split(' '))\n",
    "\n",
    "s1 = 'abba'\n",
    "print ([i for i in s1])"
   ]
  },
  {
   "cell_type": "code",
   "execution_count": 1,
   "metadata": {},
   "outputs": [
    {
     "name": "stdout",
     "output_type": "stream",
     "text": [
      "Andy is call \"Big Boy\".\n",
      "Jennifer is call 'Sweet Heart'.\n"
     ]
    }
   ],
   "source": [
    "# Single quote and double quote \n",
    "\n",
    "s1 = 'Andy is call \"Big Boy\".'\n",
    "s2 = \"Jennifer is call 'Sweet Heart'.\"\n",
    "print (s1)\n",
    "print (s2)"
   ]
  },
  {
   "cell_type": "code",
   "execution_count": 1,
   "metadata": {},
   "outputs": [
    {
     "name": "stdout",
     "output_type": "stream",
     "text": [
      "123456\n",
      "1\n",
      "9\n",
      "a 97\n"
     ]
    }
   ],
   "source": [
    "# Extend string, str to ASCII code conversion.\n",
    "\n",
    "a = '123'\n",
    "b = '456'\n",
    "c = ''\n",
    "print (a+b)\n",
    "print (c+'1')\n",
    "print (ord('9')-ord('0'))\n",
    "print (chr(97), ord('a'))"
   ]
  },
  {
   "cell_type": "code",
   "execution_count": 1,
   "metadata": {},
   "outputs": [
    {
     "name": "stdout",
     "output_type": "stream",
     "text": [
      "There is  3  a.\n",
      "a's first index is  0 .\n",
      "Find 'a' 0 .\n",
      "Find 'a' from right 8 .\n"
     ]
    }
   ],
   "source": [
    "# String builin functions\n",
    "\n",
    "s = 'abhladjfahd'\n",
    "print ('There is ', s.count('a'),' a.')\n",
    "print ('a\\'s first index is ',s.index('a'),'.' )\n",
    "print ('Find \\'a\\'', s.find('a'),'.')\n",
    "print ('Find \\'a\\' from right',s.rfind('a'),'.')"
   ]
  },
  {
   "cell_type": "code",
   "execution_count": 1,
   "metadata": {},
   "outputs": [
    {
     "name": "stdout",
     "output_type": "stream",
     "text": [
      "This is cool stuffs.\n",
      "You can try them on. \n",
      "\n",
      "Monday is always a busy day.\n",
      "You should be well prepared. \n",
      "\n",
      "You are determined to do certain things. So you should try your best. \n",
      "\n"
     ]
    }
   ],
   "source": [
    "# Triple Quote for String.\n",
    "\n",
    "a = \"\"\"This is cool stuffs.\n",
    "You can try them on.\"\"\"\n",
    "print (a,'\\n')\n",
    "b = '''Monday is always a busy day.\n",
    "You should be well prepared.'''\n",
    "print (b,'\\n')\n",
    "c = ('You are determined to do certain things. '\n",
    "     'So you should try your best.')\n",
    "print (c,'\\n')"
   ]
  },
  {
   "cell_type": "markdown",
   "metadata": {
    "collapsed": true
   },
   "source": [
    "### Object Oriented Programming"
   ]
  },
  {
   "cell_type": "code",
   "execution_count": 1,
   "metadata": {},
   "outputs": [
    {
     "name": "stdout",
     "output_type": "stream",
     "text": [
      "(Initialized SchoolMember: Mrs. Shrividya)\n",
      "(Initialized Teacher: Mrs. Shrividya)\n",
      "(Initialized SchoolMember: Swaroop)\n",
      "(Initialized Student: Swaroop)\n",
      "\n",
      "Name:\"Mrs. Shrividya\" Age:\"40\" Salary: \"30000\"\n",
      "Name:\"Swaroop\" Age:\"25\" Marks: \"75\"\n"
     ]
    }
   ],
   "source": [
    "class SchoolMember:\n",
    "    '''Represents any school member.'''\n",
    "    def __init__(self, name, age):\n",
    "        self.name = name\n",
    "        self.age = age\n",
    "        print('(Initialized SchoolMember: {})'.format(self.name))\n",
    "\n",
    "    def tell(self):\n",
    "        '''Tell my details.'''\n",
    "        print('Name:\"{}\" Age:\"{}\"'.format(self.name, self.age), end=\" \")\n",
    "\n",
    "class Teacher(SchoolMember):\n",
    "    '''Represents a teacher.'''\n",
    "    def __init__(self, name, age, salary):\n",
    "        SchoolMember.__init__(self, name, age)\n",
    "        self.salary = salary\n",
    "        print('(Initialized Teacher: {})'.format(self.name))\n",
    "\n",
    "    def tell(self):\n",
    "        SchoolMember.tell(self)\n",
    "        print('Salary: \"{:d}\"'.format(self.salary))\n",
    "\n",
    "class Student(SchoolMember):\n",
    "    '''Represents a student.'''\n",
    "    def __init__(self, name, age, marks):\n",
    "        SchoolMember.__init__(self, name, age)\n",
    "        self.marks = marks\n",
    "        print('(Initialized Student: {})'.format(self.name))\n",
    "\n",
    "    def tell(self):\n",
    "        SchoolMember.tell(self)\n",
    "        print('Marks: \"{:d}\"'.format(self.marks))\n",
    "\n",
    "t = Teacher('Mrs. Shrividya', 40, 30000)\n",
    "s = Student('Swaroop', 25, 75)\n",
    "\n",
    "# prints a blank line\n",
    "print()\n",
    "\n",
    "members = [t, s]\n",
    "for member in members:\n",
    "    # Works for both Teachers and Students\n",
    "    member.tell()"
   ]
  },
  {
   "cell_type": "markdown",
   "metadata": {
    "collapsed": true
   },
   "source": [
    "### F1 Scores\n",
    "Fraud detection metrics: F1 score and true positive rate.\n",
    "\n",
    "    True Positive Rate = Recall"
   ]
  },
  {
   "cell_type": "code",
   "execution_count": 1,
   "metadata": {},
   "outputs": [
    {
     "name": "stdout",
     "output_type": "stream",
     "text": [
      "TP is 20, FN is 3, FP is 10, TN is 1000\n",
      "True Positive Rate is 0.869565, False Positive Rate is 0.009901.\n",
      "Precision is 0.666667, Recall is 0.869565, F1 score is 0.754717.\n",
      "\n",
      "TP is 20, FN is 30, FP is 3, TN is 1000\n",
      "True Positive Rate is 0.400000, False Positive Rate is 0.002991.\n",
      "Precision is 0.869565, Recall is 0.400000, F1 score is 0.547945.\n",
      "\n"
     ]
    }
   ],
   "source": [
    "a = [(20,3,10,1000),(20,30,3,1000)]\n",
    "for (TP, FN, FP, TN) in a:\n",
    "    TPR = TP / (TP + FN)\n",
    "    FPR = FP / (FP + TN)\n",
    "    Precision = TP / (TP + FP)\n",
    "    Recall = TP / (TP + FN)  \n",
    "    F1 = 2*Precision*Recall / (Precision + Recall)\n",
    "    print ('TP is %d, FN is %d, FP is %d, TN is %d'%(TP, FN, FP, TN))\n",
    "    print ('True Positive Rate is %f, False Positive Rate is %f.'%(TPR, FPR))\n",
    "    print ('Precision is %f, Recall is %f, F1 score is %f.\\n'%(Precision, Recall, F1))"
   ]
  },
  {
   "cell_type": "markdown",
   "metadata": {
    "collapsed": true
   },
   "source": [
    "# Scikit-Learn"
   ]
  },
  {
   "cell_type": "code",
   "execution_count": 1,
   "metadata": {
    "collapsed": true
   },
   "outputs": [],
   "source": [
    "# Logistic Regression\n",
    "\n",
    "from sklearn import linear_model\n",
    "m = linear_model.LogisticRegression()"
   ]
  },
  {
   "cell_type": "code",
   "execution_count": 1,
   "metadata": {
    "collapsed": true
   },
   "outputs": [],
   "source": [
    "# Random Forest\n",
    "\n",
    "from sklearn import ensemble\n",
    "m = ensemble.RandomForestClassifier()"
   ]
  },
  {
   "cell_type": "code",
   "execution_count": 1,
   "metadata": {},
   "outputs": [
    {
     "data": {
      "text/plain": [
       "0"
      ]
     },
     "execution_count": 1,
     "metadata": {},
     "output_type": "execute_result"
    }
   ],
   "source": [
    "# Save a trained model and cross-validation\n",
    "# Save Model Using Pickle\n",
    "\n",
    "from sklearn import svm\n",
    "from sklearn import datasets\n",
    "#from sklearn.cross_validation import train_test_split\n",
    "from sklearn.model_selection import train_test_split\n",
    "\n",
    "clf = svm.SVC()\n",
    "iris = datasets.load_iris()\n",
    "X, y = iris.data, iris.target \n",
    "X_train, y_train, X_test, y_test = train_test_split(X, y, test_size=0.15, random_state=7)\n",
    "clf.fit(X, y)  \n",
    "\n",
    "# Save and load using Pickle.\n",
    "import pickle\n",
    "f_1 = open('pickle_obj.save','wb')\n",
    "pickle.dump(clf, f_1)\n",
    "# Make sure to close before open again.\n",
    "f_1.close()\n",
    "\n",
    "f_2 = open('pickle_obj.save','rb') \n",
    "clf2 = pickle.load(f_2)\n",
    "clf2.predict(X[0:1])\n",
    "y[0]\n",
    "\n",
    "# The other one is to use pickle.dumps() and pickle.loads.\n",
    "#s = pickle.dumps(clf)\n",
    "#clf2 = pickle.loads(s)"
   ]
  },
  {
   "cell_type": "code",
   "execution_count": 1,
   "metadata": {},
   "outputs": [
    {
     "name": "stdout",
     "output_type": "stream",
     "text": [
      "SL    5.843333\n",
      "SW    3.054000\n",
      "PL    3.758667\n",
      "PW    1.198667\n",
      "dtype: float64\n",
      "SL   -2.775558e-16\n",
      "SW   -5.140333e-16\n",
      "PL    1.154632e-16\n",
      "PW    9.251859e-16\n",
      "dtype: float64\n"
     ]
    }
   ],
   "source": [
    "# Different packages\n",
    "# Normalization\n",
    "from sklearn.preprocessing import StandardScaler\n",
    "import pandas as pd\n",
    "\n",
    "ss = StandardScaler()\n",
    "df = pd.read_csv('iris.csv', header=None, names=['SL','SW','PL','PW','Target'])\n",
    "df_X = df.drop('Target', axis=1)\n",
    "print (df_X.mean())\n",
    "ss.fit(df_X)\n",
    "df_X = ss.transform(df_X)\n",
    "df_new = pd.DataFrame(df_X, columns=['SL','SW','PL','PW'])\n",
    "print (df_new.mean())"
   ]
  },
  {
   "cell_type": "code",
   "execution_count": 1,
   "metadata": {},
   "outputs": [
    {
     "name": "stdout",
     "output_type": "stream",
     "text": [
      "[ 3  4  5  6  7  8  9 10 11] [0 1 2]\n",
      "[ 0  1  2  6  7  8  9 10 11] [3 4 5]\n",
      "[ 0  1  2  3  4  5  9 10 11] [6 7 8]\n",
      "[0 1 2 3 4 5 6 7 8] [ 9 10 11]\n"
     ]
    }
   ],
   "source": [
    "# Cross Validation with KFold\n",
    "\n",
    "from sklearn.model_selection import KFold\n",
    "X = [\"a\", \"b\", \"c\", \"d\",\"e\",\"f\",\"g\",\"h\",\"i\",\"j\",\"k\",\"l\"]\n",
    "kf = KFold(n_splits=4)\n",
    "for train, test in kf.split(X):\n",
    "    print(\"%s %s\" % (train, test))"
   ]
  },
  {
   "cell_type": "code",
   "execution_count": null,
   "metadata": {
    "collapsed": true
   },
   "outputs": [],
   "source": []
  }
 ],
 "metadata": {
  "anaconda-cloud": {},
  "kernelspec": {
   "display_name": "Python 3",
   "language": "python",
   "name": "python3"
  },
  "language_info": {
   "codemirror_mode": {
    "name": "ipython",
    "version": 3
   },
   "file_extension": ".py",
   "mimetype": "text/x-python",
   "name": "python",
   "nbconvert_exporter": "python",
   "pygments_lexer": "ipython3",
   "version": "3.6.1"
  }
 },
 "nbformat": 4,
 "nbformat_minor": 1
}
